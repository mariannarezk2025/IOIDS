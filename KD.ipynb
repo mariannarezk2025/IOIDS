{
 "cells": [
  {
   "cell_type": "markdown",
   "metadata": {},
   "source": [
    "### Importing PyTorch Libraries  \n",
    "- `torch`: The core PyTorch library for deep learning.  \n",
    "- `torch.nn`: Provides neural network building blocks (layers, activations, etc.).  \n",
    "- `torch.optim`: Contains optimization algorithms like SGD and Adam.  \n",
    "- `torchvision.transforms`: Applies transformations (e.g., resizing, normalization) to images.  \n",
    "- `torchvision.datasets`: Provides standard datasets like MNIST, CIFAR-10 for training models.  \n"
   ]
  },
  {
   "cell_type": "code",
   "execution_count": 28,
   "metadata": {},
   "outputs": [],
   "source": [
    "import torch\n",
    "import torch.nn as nn\n",
    "import torch.optim as optim\n",
    "import torchvision.transforms as transforms\n",
    "import torchvision.datasets as datasets"
   ]
  },
  {
   "cell_type": "markdown",
   "metadata": {},
   "source": [
    "### Loading and Preprocessing the Data  \n",
    "- Loads the dataset **`selected_features_training.csv`** using `pandas`.  \n",
    "- **Separates features (`X`)** and the **target variable (`y`)**:  \n",
    "  - `X`: Contains the selected features used for training.  \n",
    "  - `y`: Contains the labels (class categories) for classification.  \n"
   ]
  },
  {
   "cell_type": "code",
   "execution_count": 29,
   "metadata": {},
   "outputs": [],
   "source": [
    "import pandas as pd\n",
    "\n",
    "df = pd.read_csv('selected_features_training.csv')\n",
    "\n",
    "# Step 3: Preprocess the Data\n",
    "\n",
    "# Separate features and target variable\n",
    "X = df.drop('label', axis=1)\n",
    "y = df['label']"
   ]
  },
  {
   "cell_type": "markdown",
   "metadata": {},
   "source": [
    "### Splitting the Dataset into Training and Testing Sets  \n",
    "- Imports necessary libraries for **data splitting and evaluation**.  \n",
    "- `train_test_split()` is used to **split the dataset** into:  \n",
    "  - **80% training data (`X_train`, `y_train`)**  \n",
    "  - **20% testing data (`X_test`, `y_test`)**  \n",
    "- `random_state=42` ensures **consistent results** across runs.  \n"
   ]
  },
  {
   "cell_type": "code",
   "execution_count": 30,
   "metadata": {},
   "outputs": [],
   "source": [
    "\n",
    "import numpy as np\n",
    "from sklearn.model_selection import train_test_split\n",
    "from sklearn.metrics import accuracy_score\n",
    "X_train, X_test, y_train, y_test = train_test_split(X, y, test_size=0.2, random_state=42)"
   ]
  },
  {
   "cell_type": "markdown",
   "metadata": {},
   "source": [
    "### Converting Data to PyTorch Tensors  \n",
    "- Converts `X_train` and `X_test` from a **pandas DataFrame** to **NumPy arrays** and then to **PyTorch tensors**.  \n",
    "- `dtype=torch.float32`: Ensures feature values are stored as 32-bit floating points.  \n",
    "- `dtype=torch.long`: Converts labels (`y_train`, `y_test`) to integer format required for classification tasks in PyTorch.  \n"
   ]
  },
  {
   "cell_type": "code",
   "execution_count": 31,
   "metadata": {},
   "outputs": [],
   "source": [
    "# Convert DataFrame to NumPy and then to PyTorch tensor\n",
    "X_train = torch.tensor(X_train.values, dtype=torch.float32)\n",
    "y_train = torch.tensor(y_train.values, dtype=torch.long)\n",
    "X_test = torch.tensor(X_test.values, dtype=torch.float32)\n",
    "y_test = torch.tensor(y_test.values, dtype=torch.long)\n"
   ]
  },
  {
   "cell_type": "code",
   "execution_count": 33,
   "metadata": {},
   "outputs": [
    {
     "name": "stdout",
     "output_type": "stream",
     "text": [
      "torch.Size([100778, 20])\n"
     ]
    }
   ],
   "source": [
    "print(X_train.shape)  # Expected: (num_samples, num_features)"
   ]
  },
  {
   "cell_type": "markdown",
   "metadata": {},
   "source": [
    "### Loading the Pre-Trained Teacher Model  \n",
    "- Uses `load_model()` from **TensorFlow Keras** to load a pre-trained model.  \n",
    "- Loads the **`pnn_model.h5`** file, which contains the trained **Probabilistic Neural Network (PNN)** model.  \n",
    "- This model will act as the **teacher model** for knowledge distillation.  \n"
   ]
  },
  {
   "cell_type": "code",
   "execution_count": 34,
   "metadata": {},
   "outputs": [
    {
     "name": "stderr",
     "output_type": "stream",
     "text": [
      "WARNING:absl:Compiled the loaded model, but the compiled metrics have yet to be built. `model.compile_metrics` will be empty until you train or evaluate the model.\n"
     ]
    }
   ],
   "source": [
    "from tensorflow.keras.models import load_model\n",
    "teacher_model = load_model(\"pnn_model.h5\")\n"
   ]
  },
  {
   "cell_type": "markdown",
   "metadata": {},
   "source": [
    "### Generating Teacher Model Predictions (Logits)  \n",
    "- Uses the **pre-trained teacher model** to make predictions on the training data (`X_train`).  \n",
    "- Converts the predictions (logits) into a **PyTorch tensor** with `dtype=torch.float32`.  \n",
    "- These logits represent the **soft predictions** from the teacher model, which will be used for **knowledge distillation**.  \n"
   ]
  },
  {
   "cell_type": "code",
   "execution_count": 35,
   "metadata": {},
   "outputs": [
    {
     "name": "stdout",
     "output_type": "stream",
     "text": [
      "\u001b[1m3150/3150\u001b[0m \u001b[32m━━━━━━━━━━━━━━━━━━━━\u001b[0m\u001b[37m\u001b[0m \u001b[1m5s\u001b[0m 1ms/step\n"
     ]
    },
    {
     "data": {
      "text/plain": [
       "tensor([[2.7812e-09, 3.4620e-20, 1.2752e-25,  ..., 1.3662e-35, 1.1516e-13,\n",
       "         0.0000e+00],\n",
       "        [0.0000e+00, 0.0000e+00, 0.0000e+00,  ..., 0.0000e+00, 0.0000e+00,\n",
       "         0.0000e+00],\n",
       "        [9.3335e-25, 2.1447e-31, 0.0000e+00,  ..., 5.4336e-24, 0.0000e+00,\n",
       "         0.0000e+00],\n",
       "        ...,\n",
       "        [7.8920e-25, 6.2439e-31, 0.0000e+00,  ..., 2.9868e-23, 0.0000e+00,\n",
       "         0.0000e+00],\n",
       "        [1.4533e-06, 1.7698e-14, 2.0384e-19,  ..., 4.0989e-29, 2.1206e-11,\n",
       "         2.5264e-30],\n",
       "        [5.3072e-28, 0.0000e+00, 0.0000e+00,  ..., 0.0000e+00, 0.0000e+00,\n",
       "         0.0000e+00]])"
      ]
     },
     "execution_count": 35,
     "metadata": {},
     "output_type": "execute_result"
    }
   ],
   "source": [
    "teacher_logits = torch.tensor(teacher_model.predict(X_train), dtype=torch.float32)\n",
    "teacher_logits"
   ]
  },
  {
   "cell_type": "markdown",
   "metadata": {},
   "source": [
    "### Defining the Student Model  \n",
    "- A **lightweight neural network** designed to learn from the **teacher model** using **knowledge distillation**.  \n",
    "- **Uses PyTorch’s `nn.Module`** to define the architecture.  \n",
    "\n",
    "#### **Layers in the Student Model**  \n",
    "1. **Input Layer → Hidden Layer**  \n",
    "   - `nn.Linear(X_train.shape[1], 64)`:  \n",
    "     - Connects the input features to a hidden layer with **64 neurons**.  \n",
    "2. **Hidden Layer → Output Layer**  \n",
    "   - `nn.Linear(64, len(torch.unique(y_train)))`:  \n",
    "     - Connects the hidden layer to the output layer with **the number of unique classes** in `y_train`.  \n",
    "3. **Activation Function**  \n",
    "   - Uses **ReLU (`torch.relu()`)** to introduce non-linearity and improve learning.  \n",
    "\n",
    "#### **Forward Pass**  \n",
    "- Takes input (`x`), applies **ReLU activation** to the first layer, and then **outputs logits** from the second layer.  \n",
    "- The logits will later be used for **soft target matching** during knowledge distillation.  \n"
   ]
  },
  {
   "cell_type": "code",
   "execution_count": 36,
   "metadata": {},
   "outputs": [],
   "source": [
    "import torch.nn as nn\n",
    "\n",
    "class StudentModel(nn.Module):\n",
    "    def __init__(self):\n",
    "        super(StudentModel, self).__init__()\n",
    "        self.fc1 = nn.Linear(X_train.shape[1], 64)  # Input layer to a smaller hidden layer\n",
    "        self.fc2 = nn.Linear(64, len(torch.unique(y_train)))  # Hidden layer to output layer\n",
    "\n",
    "    def forward(self, x):\n",
    "        x = torch.relu(self.fc1(x))\n",
    "        x = self.fc2(x)\n",
    "        return x\n"
   ]
  },
  {
   "cell_type": "markdown",
   "metadata": {},
   "source": [
    "### Initializing the Student Model  \n",
    "- Creates an instance of the **StudentModel** class.  \n",
    "- This model will learn from the **teacher model’s predictions (logits)** during **knowledge distillation**.  \n",
    "- The student model is **smaller and more efficient** than the teacher model, making it suitable for deployment on **resource-limited IoT devices**.  \n"
   ]
  },
  {
   "cell_type": "code",
   "execution_count": 37,
   "metadata": {},
   "outputs": [],
   "source": [
    "student_model = StudentModel()"
   ]
  },
  {
   "cell_type": "markdown",
   "metadata": {},
   "source": [
    "### Defining Hyperparameters for Knowledge Distillation  \n",
    "- **`alpha = 0.5`** → Balances between **soft loss (from teacher logits)** and **hard loss (from true labels)**.  \n",
    "- **`temperature = 3.0`** → Controls the **softness of teacher's logits**, making them more informative for training.  \n",
    "- **`learning_rate = 0.001`** → Sets the step size for the optimizer to update model weights.  \n",
    "- **`num_epochs = 100`** → Defines the number of times the student model will train on the dataset.  \n",
    "\n",
    "💡 **Higher `temperature` makes the teacher’s output probabilities smoother, helping the student learn better from soft labels.**  \n"
   ]
  },
  {
   "cell_type": "code",
   "execution_count": 39,
   "metadata": {},
   "outputs": [],
   "source": [
    "alpha = 0.5         # Weight for soft vs hard loss\n",
    "temperature = 3.0   # Temperature for softening the teacher's outputs\n",
    "learning_rate = 0.001  # Learning rate for the optimizer\n",
    "num_epochs = 100     # Number of training epochs"
   ]
  },
  {
   "cell_type": "markdown",
   "metadata": {},
   "source": [
    "### Initializing the Optimizer  \n",
    "- Uses **Adam optimizer (`torch.optim.Adam`)**, which is an adaptive learning rate optimization algorithm.  \n",
    "- **Updates the parameters** of the `student_model` based on gradient descent.  \n",
    "- **Learning rate (`lr=learning_rate`)** is set to `0.001`, controlling how much the model adjusts during training.  \n"
   ]
  },
  {
   "cell_type": "code",
   "execution_count": 40,
   "metadata": {},
   "outputs": [],
   "source": [
    "optimizer = torch.optim.Adam(student_model.parameters(), lr=learning_rate)\n"
   ]
  },
  {
   "cell_type": "markdown",
   "metadata": {},
   "source": [
    "### Knowledge Distillation Loss Function  \n",
    "- Helps the **student model learn** from both the **teacher model** and **true labels**.  \n",
    "- Uses a **balance** of two losses:  \n",
    "  1. **Soft Loss (KL Divergence)** → Matches student predictions with **teacher's softened outputs**.  \n",
    "  2. **Hard Loss (Cross-Entropy)** → Matches student predictions with **true labels**.  \n",
    "- `alpha` controls the weight:  \n",
    "  - **Higher `alpha`** → Student relies more on the teacher.  \n",
    "  - **Lower `alpha`** → Student relies more on true labels.  \n"
   ]
  },
  {
   "cell_type": "code",
   "execution_count": 41,
   "metadata": {},
   "outputs": [],
   "source": [
    "def distillation_loss(student_logits, teacher_logits, true_labels, alpha=0.5, temperature=3.0):\n",
    "    # Compute teacher probabilities (softened outputs)\n",
    "    teacher_probs = torch.softmax(teacher_logits / temperature, dim=1)\n",
    "    # Compute student probabilities\n",
    "    student_probs = torch.log_softmax(student_logits / temperature, dim=1)\n",
    "\n",
    "    # Compute the soft loss (KL Divergence between student and teacher)\n",
    "    soft_loss = nn.KLDivLoss(reduction=\"batchmean\")(student_probs, teacher_probs)\n",
    "\n",
    "    # Compute the hard loss (CrossEntropy with true labels)\n",
    "    hard_loss = nn.CrossEntropyLoss()(student_logits, true_labels)\n",
    "\n",
    "    # Combine soft and hard losses\n",
    "    return alpha * soft_loss + (1 - alpha) * hard_loss\n"
   ]
  },
  {
   "cell_type": "markdown",
   "metadata": {},
   "source": [
    "### Training the Student Model with Knowledge Distillation  \n",
    "\n",
    "1. **Set the model to training mode:**  \n",
    "   - `student_model.train()` ensures the model updates its parameters.  \n",
    "\n",
    "2. **Reset gradients before each update:**  \n",
    "   - `optimizer.zero_grad()` clears previous gradients to avoid accumulation.  \n",
    "\n",
    "3. **Get student model predictions:**  \n",
    "   - `student_logits = student_model(X_train)` generates logits for training data.  \n",
    "\n",
    "4. **Compute distillation loss:**  \n",
    "   - Uses `distillation_loss()` to combine knowledge from the **teacher model** and **true labels**.  \n",
    "\n",
    "5. **Backpropagation:**  \n",
    "   - `loss.backward()` calculates gradients for each parameter.  \n",
    "   - `optimizer.step()` updates the student model’s weights.  \n",
    "\n",
    "6. **Track progress:**  \n",
    "   - Prints the loss **every 10 epochs** to monitor training.  \n"
   ]
  },
  {
   "cell_type": "code",
   "execution_count": null,
   "metadata": {},
   "outputs": [],
   "source": [
    "for epoch in range(num_epochs):\n",
    "    student_model.train()\n",
    "    optimizer.zero_grad()\n",
    "\n",
    "    # Get student's predictions\n",
    "    student_logits = student_model(X_train)\n",
    "\n",
    "    # Calculate the distillation loss\n",
    "    loss = distillation_loss(student_logits, teacher_logits, y_train, alpha, temperature)\n",
    "\n",
    "    # Backpropagation\n",
    "    loss.backward()\n",
    "    optimizer.step()\n",
    "\n",
    "    # Print progress every 10 epochs\n",
    "    if (epoch + 1) % 10 == 0:\n",
    "        print(f\"Epoch [{epoch + 1}/{num_epochs}], Loss: {loss.item():.4f}\")\n"
   ]
  },
  {
   "cell_type": "markdown",
   "metadata": {},
   "source": [
    "### Evaluating the Student Model  \n",
    "\n",
    "1. **Set model to evaluation mode:**  \n",
    "   - `student_model.eval()` ensures the model does not update weights during testing.  \n",
    "\n",
    "2. **Disable gradient calculation:**  \n",
    "   - `with torch.no_grad():` speeds up inference and reduces memory usage.  \n",
    "\n",
    "3. **Make predictions on test data:**  \n",
    "   - `test_logits = student_model(X_test)` generates logits for test samples.  \n",
    "   - `predictions = torch.argmax(test_logits, dim=1)` converts logits into class labels.  \n",
    "\n",
    "4. **Calculate accuracy:**  \n",
    "   - Uses `accuracy_score()` to compare predictions with true labels (`y_test`).  \n",
    "\n",
    "5. **Print the final accuracy of the student model.**"
   ]
  },
  {
   "cell_type": "code",
   "execution_count": null,
   "metadata": {},
   "outputs": [
    {
     "name": "stdout",
     "output_type": "stream",
     "text": [
      "Student Model Accuracy: 0.9140\n"
     ]
    }
   ],
   "source": [
    "student_model.eval()\n",
    "with torch.no_grad():\n",
    "    test_logits = student_model(X_test)\n",
    "    predictions = torch.argmax(test_logits, dim=1)\n",
    "\n",
    "# Calculate accuracy\n",
    "accuracy = accuracy_score(y_test.numpy(), predictions.numpy())\n",
    "print(f\"Student Model Accuracy: {accuracy:.4f}\")\n"
   ]
  },
  {
   "cell_type": "markdown",
   "metadata": {},
   "source": [
    "### Saving the Trained Student Model  \n",
    "- Saves the **student model’s trained weights** using `torch.save()`.  \n",
    "- `student_model.state_dict()` contains only the **model parameters** (not the full model structure).  \n",
    "- The model is stored as **`student_model.h5`**, which can be **loaded later for inference or further training**.  \n"
   ]
  },
  {
   "cell_type": "code",
   "execution_count": 20,
   "metadata": {},
   "outputs": [],
   "source": [
    "torch.save(student_model.state_dict(), \"student_model.h5\")\n"
   ]
  },
  {
   "cell_type": "markdown",
   "metadata": {},
   "source": [
    "### Comparing Teacher and Student Model Sizes  \n",
    "1. **Calculate Teacher Model Size:**  \n",
    "   - `teacher_model.count_params()` returns the **total number of parameters** in the teacher model.  \n",
    "\n",
    "2. **Calculate Student Model Size:**  \n",
    "   - `sum(p.numel() for p in student_model.parameters())` computes the **total parameters** in the student model.  \n",
    "\n",
    "3. **Print Model Sizes:**  \n",
    "   - Displays the **number of parameters** in both models to compare their complexity. "
   ]
  },
  {
   "cell_type": "code",
   "execution_count": 25,
   "metadata": {},
   "outputs": [
    {
     "name": "stdout",
     "output_type": "stream",
     "text": [
      "Teacher Model Size: 88599 parameters\n",
      "Student Model Size: 2839 parameters\n"
     ]
    }
   ],
   "source": [
    "teacher_size = teacher_model.count_params()\n",
    "student_size = sum(p.numel() for p in student_model.parameters())\n",
    "\n",
    "print(f\"Teacher Model Size: {teacher_size} parameters\")\n",
    "print(f\"Student Model Size: {student_size} parameters\")\n"
   ]
  },
  {
   "cell_type": "markdown",
   "metadata": {},
   "source": [
    "- Computes the **percentage reduction** in model size after knowledge distillation.  \n",
    "- Prints how much **smaller** the student model is compared to the teacher model.  "
   ]
  },
  {
   "cell_type": "code",
   "execution_count": 44,
   "metadata": {},
   "outputs": [
    {
     "name": "stdout",
     "output_type": "stream",
     "text": [
      "Redcution by 96.7956748947505 %\n"
     ]
    }
   ],
   "source": [
    "print(f'Redcution by {(1- (student_size/teacher_size)) *100} %')"
   ]
  },
  {
   "cell_type": "code",
   "execution_count": null,
   "metadata": {},
   "outputs": [],
   "source": []
  }
 ],
 "metadata": {
  "kernelspec": {
   "display_name": "venv",
   "language": "python",
   "name": "python3"
  },
  "language_info": {
   "codemirror_mode": {
    "name": "ipython",
    "version": 3
   },
   "file_extension": ".py",
   "mimetype": "text/x-python",
   "name": "python",
   "nbconvert_exporter": "python",
   "pygments_lexer": "ipython3",
   "version": "3.12.2"
  }
 },
 "nbformat": 4,
 "nbformat_minor": 2
}
