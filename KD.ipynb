{
 "cells": [
  {
   "cell_type": "code",
   "execution_count": 1,
   "metadata": {},
   "outputs": [],
   "source": [
    "import torch\n",
    "import torch.nn as nn\n",
    "import torch.optim as optim\n",
    "import torchvision.transforms as transforms\n",
    "import torchvision.datasets as datasets"
   ]
  },
  {
   "cell_type": "code",
   "execution_count": 2,
   "metadata": {},
   "outputs": [],
   "source": [
    "import pandas as pd\n",
    "\n",
    "df = pd.read_csv('selected_features_training.csv')\n",
    "\n",
    "# Step 3: Preprocess the Data\n",
    "\n",
    "# Separate features and target variable\n",
    "X = df.drop('label', axis=1)\n",
    "y = df['label']"
   ]
  },
  {
   "cell_type": "code",
   "execution_count": 4,
   "metadata": {},
   "outputs": [],
   "source": [
    "\n",
    "import numpy as np\n",
    "from sklearn.model_selection import train_test_split\n",
    "from sklearn.metrics import accuracy_score\n",
    "X_train, X_test, y_train, y_test = train_test_split(X, y, test_size=0.2, random_state=42)"
   ]
  },
  {
   "cell_type": "code",
   "execution_count": 6,
   "metadata": {},
   "outputs": [],
   "source": [
    "# Convert DataFrame to NumPy and then to PyTorch tensor\n",
    "X_train = torch.tensor(X_train.values, dtype=torch.float32)\n",
    "y_train = torch.tensor(y_train.values, dtype=torch.long)\n",
    "X_test = torch.tensor(X_test.values, dtype=torch.float32)\n",
    "y_test = torch.tensor(y_test.values, dtype=torch.long)\n"
   ]
  },
  {
   "cell_type": "code",
   "execution_count": 7,
   "metadata": {},
   "outputs": [
    {
     "data": {
      "text/plain": [
       "tensor([[5.0000e-01, 9.0000e-01, 1.5508e-07,  ..., 1.0000e+00, 0.0000e+00,\n",
       "         0.0000e+00],\n",
       "        [5.0000e-01, 5.0000e-01, 0.0000e+00,  ..., 7.8431e-03, 1.0000e+00,\n",
       "         0.0000e+00],\n",
       "        [5.0000e-01, 1.0000e-01, 0.0000e+00,  ..., 3.1373e-02, 0.0000e+00,\n",
       "         1.0000e+00],\n",
       "        ...,\n",
       "        [5.0000e-01, 1.0000e-01, 0.0000e+00,  ..., 2.3529e-02, 0.0000e+00,\n",
       "         1.0000e+00],\n",
       "        [5.0000e-01, 9.0000e-01, 2.2392e-07,  ..., 1.0000e+00, 0.0000e+00,\n",
       "         0.0000e+00],\n",
       "        [1.0000e+00, 9.0000e-01, 3.1160e-08,  ..., 9.9608e-01, 0.0000e+00,\n",
       "         0.0000e+00]])"
      ]
     },
     "execution_count": 7,
     "metadata": {},
     "output_type": "execute_result"
    }
   ],
   "source": [
    "X_train"
   ]
  },
  {
   "cell_type": "code",
   "execution_count": 8,
   "metadata": {},
   "outputs": [
    {
     "name": "stdout",
     "output_type": "stream",
     "text": [
      "torch.Size([100778, 22])\n"
     ]
    }
   ],
   "source": [
    "print(X_train.shape)  # Expected: (num_samples, num_features)"
   ]
  },
  {
   "cell_type": "code",
   "execution_count": 9,
   "metadata": {},
   "outputs": [
    {
     "name": "stderr",
     "output_type": "stream",
     "text": [
      "WARNING:absl:Compiled the loaded model, but the compiled metrics have yet to be built. `model.compile_metrics` will be empty until you train or evaluate the model.\n"
     ]
    }
   ],
   "source": [
    "from tensorflow.keras.models import load_model\n",
    "teacher_model = load_model(\"pnn_model.h5\")\n"
   ]
  },
  {
   "cell_type": "code",
   "execution_count": 10,
   "metadata": {},
   "outputs": [
    {
     "name": "stdout",
     "output_type": "stream",
     "text": [
      "\u001b[1m3150/3150\u001b[0m \u001b[32m━━━━━━━━━━━━━━━━━━━━\u001b[0m\u001b[37m\u001b[0m \u001b[1m4s\u001b[0m 795us/step\n"
     ]
    },
    {
     "data": {
      "text/plain": [
       "tensor([[8.3746e-19, 5.5388e-24, 3.4760e-21,  ..., 1.1500e-37, 2.5883e-16,\n",
       "         3.2402e-30],\n",
       "        [0.0000e+00, 0.0000e+00, 0.0000e+00,  ..., 0.0000e+00, 0.0000e+00,\n",
       "         0.0000e+00],\n",
       "        [9.6598e-36, 2.4998e-31, 0.0000e+00,  ..., 1.5795e-28, 0.0000e+00,\n",
       "         0.0000e+00],\n",
       "        ...,\n",
       "        [7.6000e-36, 2.7694e-31, 0.0000e+00,  ..., 8.9771e-29, 0.0000e+00,\n",
       "         0.0000e+00],\n",
       "        [1.3558e-16, 6.8396e-21, 1.0208e-14,  ..., 3.8193e-36, 8.5625e-14,\n",
       "         4.3104e-22],\n",
       "        [7.7824e-28, 4.7065e-35, 6.5327e-26,  ..., 0.0000e+00, 2.2098e-19,\n",
       "         0.0000e+00]])"
      ]
     },
     "execution_count": 10,
     "metadata": {},
     "output_type": "execute_result"
    }
   ],
   "source": [
    "teacher_logits = torch.tensor(teacher_model.predict(X_train), dtype=torch.float32)\n",
    "teacher_logits"
   ]
  },
  {
   "cell_type": "code",
   "execution_count": 33,
   "metadata": {},
   "outputs": [],
   "source": [
    "import torch.nn as nn\n",
    "\n",
    "class StudentModel(nn.Module):\n",
    "    def __init__(self):\n",
    "        super(StudentModel, self).__init__()\n",
    "        self.fc1 = nn.Linear(X_train.shape[1], 64)  # Input layer to a smaller hidden layer\n",
    "        self.fc2 = nn.Linear(64, len(torch.unique(y_train)))  # Hidden layer to output layer\n",
    "\n",
    "    def forward(self, x):\n",
    "        x = torch.relu(self.fc1(x))\n",
    "        x = self.fc2(x)\n",
    "        return x\n"
   ]
  },
  {
   "cell_type": "code",
   "execution_count": 34,
   "metadata": {},
   "outputs": [],
   "source": [
    "student_model = StudentModel()"
   ]
  },
  {
   "cell_type": "code",
   "execution_count": 35,
   "metadata": {},
   "outputs": [
    {
     "data": {
      "text/plain": [
       "StudentModel(\n",
       "  (fc1): Linear(in_features=22, out_features=64, bias=True)\n",
       "  (fc2): Linear(in_features=64, out_features=23, bias=True)\n",
       ")"
      ]
     },
     "execution_count": 35,
     "metadata": {},
     "output_type": "execute_result"
    }
   ],
   "source": [
    "student_model"
   ]
  },
  {
   "cell_type": "code",
   "execution_count": 43,
   "metadata": {},
   "outputs": [],
   "source": [
    "alpha = 0.5         # Weight for soft vs hard loss\n",
    "temperature = 3.0   # Temperature for softening the teacher's outputs\n",
    "learning_rate = 0.001  # Learning rate for the optimizer\n",
    "num_epochs = 100     # Number of training epochs"
   ]
  },
  {
   "cell_type": "code",
   "execution_count": 37,
   "metadata": {},
   "outputs": [],
   "source": [
    "optimizer = torch.optim.Adam(student_model.parameters(), lr=learning_rate)\n"
   ]
  },
  {
   "cell_type": "code",
   "execution_count": 44,
   "metadata": {},
   "outputs": [],
   "source": [
    "def distillation_loss(student_logits, teacher_logits, true_labels, alpha=0.5, temperature=3.0):\n",
    "    # Compute teacher probabilities (softened outputs)\n",
    "    teacher_probs = torch.softmax(teacher_logits / temperature, dim=1)\n",
    "    # Compute student probabilities\n",
    "    student_probs = torch.log_softmax(student_logits / temperature, dim=1)\n",
    "\n",
    "    # Compute the soft loss (KL Divergence between student and teacher)\n",
    "    soft_loss = nn.KLDivLoss(reduction=\"batchmean\")(student_probs, teacher_probs)\n",
    "\n",
    "    # Compute the hard loss (CrossEntropy with true labels)\n",
    "    hard_loss = nn.CrossEntropyLoss()(student_logits, true_labels)\n",
    "\n",
    "    # Combine soft and hard losses\n",
    "    return alpha * soft_loss + (1 - alpha) * hard_loss\n"
   ]
  },
  {
   "cell_type": "code",
   "execution_count": 45,
   "metadata": {},
   "outputs": [
    {
     "name": "stdout",
     "output_type": "stream",
     "text": [
      "Epoch [10/100], Loss: 0.4186\n",
      "Epoch [20/100], Loss: 0.3939\n",
      "Epoch [30/100], Loss: 0.3740\n",
      "Epoch [40/100], Loss: 0.3583\n",
      "Epoch [50/100], Loss: 0.3458\n",
      "Epoch [60/100], Loss: 0.3354\n",
      "Epoch [70/100], Loss: 0.3268\n",
      "Epoch [80/100], Loss: 0.3193\n",
      "Epoch [90/100], Loss: 0.3125\n",
      "Epoch [100/100], Loss: 0.3064\n"
     ]
    }
   ],
   "source": [
    "for epoch in range(num_epochs):\n",
    "    student_model.train()\n",
    "    optimizer.zero_grad()\n",
    "\n",
    "    # Get student's predictions\n",
    "    student_logits = student_model(X_train)\n",
    "\n",
    "    # Calculate the distillation loss\n",
    "    loss = distillation_loss(student_logits, teacher_logits, y_train, alpha, temperature)\n",
    "\n",
    "    # Backpropagation\n",
    "    loss.backward()\n",
    "    optimizer.step()\n",
    "\n",
    "    # Print progress every 10 epochs\n",
    "    if (epoch + 1) % 10 == 0:\n",
    "        print(f\"Epoch [{epoch + 1}/{num_epochs}], Loss: {loss.item():.4f}\")\n"
   ]
  },
  {
   "cell_type": "code",
   "execution_count": 46,
   "metadata": {},
   "outputs": [
    {
     "name": "stdout",
     "output_type": "stream",
     "text": [
      "Student Model Accuracy: 0.8598\n"
     ]
    }
   ],
   "source": [
    "student_model.eval()\n",
    "with torch.no_grad():\n",
    "    test_logits = student_model(X_test)\n",
    "    predictions = torch.argmax(test_logits, dim=1)\n",
    "\n",
    "# Calculate accuracy\n",
    "accuracy = accuracy_score(y_test.numpy(), predictions.numpy())\n",
    "print(f\"Student Model Accuracy: {accuracy:.4f}\")\n"
   ]
  },
  {
   "cell_type": "code",
   "execution_count": 19,
   "metadata": {},
   "outputs": [],
   "source": [
    "torch.save(student_model.state_dict(), \"student_model.h5\")\n"
   ]
  },
  {
   "cell_type": "code",
   "execution_count": 20,
   "metadata": {},
   "outputs": [
    {
     "ename": "AttributeError",
     "evalue": "'Sequential' object has no attribute 'parameters'",
     "output_type": "error",
     "traceback": [
      "\u001b[1;31m---------------------------------------------------------------------------\u001b[0m",
      "\u001b[1;31mAttributeError\u001b[0m                            Traceback (most recent call last)",
      "Cell \u001b[1;32mIn[20], line 1\u001b[0m\n\u001b[1;32m----> 1\u001b[0m teacher_size \u001b[38;5;241m=\u001b[39m \u001b[38;5;28msum\u001b[39m(p\u001b[38;5;241m.\u001b[39mnumel() \u001b[38;5;28;01mfor\u001b[39;00m p \u001b[38;5;129;01min\u001b[39;00m \u001b[43mteacher_model\u001b[49m\u001b[38;5;241;43m.\u001b[39;49m\u001b[43mparameters\u001b[49m())\n\u001b[0;32m      2\u001b[0m student_size \u001b[38;5;241m=\u001b[39m \u001b[38;5;28msum\u001b[39m(p\u001b[38;5;241m.\u001b[39mnumel() \u001b[38;5;28;01mfor\u001b[39;00m p \u001b[38;5;129;01min\u001b[39;00m student_model\u001b[38;5;241m.\u001b[39mparameters())\n\u001b[0;32m      3\u001b[0m \u001b[38;5;28mprint\u001b[39m(\u001b[38;5;124mf\u001b[39m\u001b[38;5;124m\"\u001b[39m\u001b[38;5;124mTeacher Model Size: \u001b[39m\u001b[38;5;132;01m{\u001b[39;00mteacher_size\u001b[38;5;132;01m}\u001b[39;00m\u001b[38;5;124m parameters\u001b[39m\u001b[38;5;124m\"\u001b[39m)\n",
      "\u001b[1;31mAttributeError\u001b[0m: 'Sequential' object has no attribute 'parameters'"
     ]
    }
   ],
   "source": [
    "teacher_size = sum(p.numel() for p in teacher_model.parameters())\n",
    "student_size = sum(p.numel() for p in student_model.parameters())\n",
    "print(f\"Teacher Model Size: {teacher_size} parameters\")\n",
    "print(f\"Student Model Size: {student_size} parameters\")"
   ]
  },
  {
   "cell_type": "code",
   "execution_count": 47,
   "metadata": {},
   "outputs": [],
   "source": [
    "teacher_size = teacher_model.count_params()"
   ]
  },
  {
   "cell_type": "code",
   "execution_count": 48,
   "metadata": {},
   "outputs": [
    {
     "data": {
      "text/plain": [
       "90647"
      ]
     },
     "execution_count": 48,
     "metadata": {},
     "output_type": "execute_result"
    }
   ],
   "source": [
    "teacher_size"
   ]
  },
  {
   "cell_type": "code",
   "execution_count": 49,
   "metadata": {},
   "outputs": [
    {
     "data": {
      "text/plain": [
       "2967"
      ]
     },
     "execution_count": 49,
     "metadata": {},
     "output_type": "execute_result"
    }
   ],
   "source": [
    "student_size = sum(p.numel() for p in student_model.parameters())\n",
    "student_size"
   ]
  },
  {
   "cell_type": "code",
   "execution_count": 50,
   "metadata": {},
   "outputs": [
    {
     "name": "stdout",
     "output_type": "stream",
     "text": [
      "Teacher Model Size: 90647 parameters\n",
      "Student Model Size: 2967 parameters\n"
     ]
    }
   ],
   "source": [
    "teacher_size = teacher_model.count_params()\n",
    "student_size = sum(p.numel() for p in student_model.parameters())\n",
    "\n",
    "print(f\"Teacher Model Size: {teacher_size} parameters\")\n",
    "print(f\"Student Model Size: {student_size} parameters\")\n"
   ]
  },
  {
   "cell_type": "code",
   "execution_count": null,
   "metadata": {},
   "outputs": [],
   "source": []
  }
 ],
 "metadata": {
  "kernelspec": {
   "display_name": "myenv",
   "language": "python",
   "name": "python3"
  },
  "language_info": {
   "codemirror_mode": {
    "name": "ipython",
    "version": 3
   },
   "file_extension": ".py",
   "mimetype": "text/x-python",
   "name": "python",
   "nbconvert_exporter": "python",
   "pygments_lexer": "ipython3",
   "version": "3.12.2"
  }
 },
 "nbformat": 4,
 "nbformat_minor": 2
}
